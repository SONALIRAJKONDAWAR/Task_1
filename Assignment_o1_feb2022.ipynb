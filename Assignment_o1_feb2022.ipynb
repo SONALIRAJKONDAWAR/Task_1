{
 "cells": [
  {
   "cell_type": "markdown",
   "id": "a253ccf3",
   "metadata": {},
   "source": [
    "## Assignment No_1"
   ]
  },
  {
   "cell_type": "code",
   "execution_count": null,
   "id": "0bcdd460",
   "metadata": {},
   "outputs": [],
   "source": [
    "#Que:1 In the below elements which of them are values or an expression? \n",
    "#eg:- values can be integer or string and expressions will be mathematical operators."
   ]
  },
  {
   "cell_type": "code",
   "execution_count": null,
   "id": "4eddb527",
   "metadata": {},
   "outputs": [],
   "source": [
    "Values - 'hello',-87.8,6\n",
    "Expresision - *,-,/,+ "
   ]
  },
  {
   "cell_type": "code",
   "execution_count": null,
   "id": "447c2cf1",
   "metadata": {},
   "outputs": [],
   "source": [
    "#Que:2 What is the difference between string and variable?"
   ]
  },
  {
   "cell_type": "code",
   "execution_count": null,
   "id": "82e53920",
   "metadata": {},
   "outputs": [],
   "source": [
    "STRING:\n",
    "String is a data type.In addition to letters they can also include numbers, spaces, punctuation.\n",
    "string is define by putting single quotes(' ') or double quotes (\" \")"
   ]
  },
  {
   "cell_type": "code",
   "execution_count": null,
   "id": "b27edfc0",
   "metadata": {},
   "outputs": [],
   "source": [
    "VERIABLE:\n",
    "Veriable is a identifier to store a value in a memory location.\n",
    "variable can not start with number or special characters"
   ]
  },
  {
   "cell_type": "code",
   "execution_count": null,
   "id": "5fb2921e",
   "metadata": {},
   "outputs": [],
   "source": [
    "#Que:3 Describe three different data types."
   ]
  },
  {
   "cell_type": "code",
   "execution_count": null,
   "id": "5992d419",
   "metadata": {},
   "outputs": [],
   "source": [
    "BOOLEAN :-\n",
    "    A Boolean represents two possible states: TRUE or FALSE.\n",
    "    Booleans are often used in conditional testing\n",
    "FLOAT:-\n",
    "    A float (floating point number) is a number with a decimal \n",
    "    point or a number in exponential form.\n",
    "INTEGER:-\n",
    "    An integer data type is a non-decimal number \n",
    "    An integer must have at least one digit\n",
    "    An integer must not have a decimal point\n",
    "    An integer can be either positive or negative."
   ]
  },
  {
   "cell_type": "code",
   "execution_count": null,
   "id": "1f85bbc3",
   "metadata": {},
   "outputs": [],
   "source": [
    "#Que:4 What is an expression made up of? What do all expressions do?"
   ]
  },
  {
   "cell_type": "code",
   "execution_count": null,
   "id": "88cbfb65",
   "metadata": {},
   "outputs": [],
   "source": [
    "What is an expression made up of?\n",
    "An expression is a construct made up of variables, operators, and method invocations, \n",
    "which are constructed according to the syntax of the language, that evaluates to a single value.\n",
    "\n",
    "What do all expressions do?\n",
    "An expression is a combination of operators and operands that is interpreted to produce some other value. \n",
    "In any programming language, an expression is evaluated as per the precedence of its operators."
   ]
  },
  {
   "cell_type": "code",
   "execution_count": null,
   "id": "1b032ee7",
   "metadata": {},
   "outputs": [],
   "source": [
    "#Que:5 This assignment statements, like spam = 10. What is the difference between an expression and a statement?"
   ]
  },
  {
   "cell_type": "code",
   "execution_count": null,
   "id": "d4a3ee3c",
   "metadata": {},
   "outputs": [],
   "source": [
    "spam = 10 is a statement\n",
    "Expressions always evaluate to a value, statements don't\n",
    "variable declaration and assignment are statements because they do not return a value"
   ]
  },
  {
   "cell_type": "code",
   "execution_count": null,
   "id": "81534dc5",
   "metadata": {},
   "outputs": [],
   "source": [
    "#Que:6 After running the following code, what does the variable bacon contain?"
   ]
  },
  {
   "cell_type": "code",
   "execution_count": 1,
   "id": "4ffb3923",
   "metadata": {},
   "outputs": [],
   "source": [
    "bacon=22"
   ]
  },
  {
   "cell_type": "code",
   "execution_count": 3,
   "id": "05f8535d",
   "metadata": {},
   "outputs": [
    {
     "data": {
      "text/plain": [
       "22"
      ]
     },
     "execution_count": 3,
     "metadata": {},
     "output_type": "execute_result"
    }
   ],
   "source": [
    "bacon"
   ]
  },
  {
   "cell_type": "code",
   "execution_count": 4,
   "id": "89510a4e",
   "metadata": {},
   "outputs": [
    {
     "data": {
      "text/plain": [
       "23"
      ]
     },
     "execution_count": 4,
     "metadata": {},
     "output_type": "execute_result"
    }
   ],
   "source": [
    "bacon+1"
   ]
  },
  {
   "cell_type": "code",
   "execution_count": null,
   "id": "30346e85",
   "metadata": {},
   "outputs": [],
   "source": [
    "#Que:7 What should the values of the following two terms be?"
   ]
  },
  {
   "cell_type": "code",
   "execution_count": 5,
   "id": "83237669",
   "metadata": {},
   "outputs": [
    {
     "data": {
      "text/plain": [
       "'spamspamspam'"
      ]
     },
     "execution_count": 5,
     "metadata": {},
     "output_type": "execute_result"
    }
   ],
   "source": [
    "'spam'+'spamspam'"
   ]
  },
  {
   "cell_type": "code",
   "execution_count": 6,
   "id": "476668f1",
   "metadata": {},
   "outputs": [
    {
     "data": {
      "text/plain": [
       "'spamspamspam'"
      ]
     },
     "execution_count": 6,
     "metadata": {},
     "output_type": "execute_result"
    }
   ],
   "source": [
    "'spam'*3"
   ]
  },
  {
   "cell_type": "code",
   "execution_count": 1,
   "id": "f861e866",
   "metadata": {},
   "outputs": [],
   "source": [
    "#Que:7 Why is eggs a valid variable name while 100 is invalid?"
   ]
  },
  {
   "cell_type": "code",
   "execution_count": null,
   "id": "6b38112f",
   "metadata": {},
   "outputs": [],
   "source": [
    "Because Variable names cannot begin with a number.100 is a integer so it is invalid."
   ]
  },
  {
   "cell_type": "code",
   "execution_count": null,
   "id": "39f779d8",
   "metadata": {},
   "outputs": [],
   "source": [
    "#Que:8 What three functions can be used to get the integer, floating-point number, or string version of a value?"
   ]
  },
  {
   "cell_type": "code",
   "execution_count": null,
   "id": "04a23646",
   "metadata": {},
   "outputs": [],
   "source": [
    "int(),float(),str()"
   ]
  },
  {
   "cell_type": "code",
   "execution_count": null,
   "id": "99be9bc1",
   "metadata": {},
   "outputs": [],
   "source": [
    "#Que:10 Why does this expression cause an error? How can you fix it?"
   ]
  },
  {
   "cell_type": "code",
   "execution_count": 3,
   "id": "f35e6f11",
   "metadata": {},
   "outputs": [
    {
     "ename": "TypeError",
     "evalue": "can only concatenate str (not \"int\") to str",
     "output_type": "error",
     "traceback": [
      "\u001b[1;31m---------------------------------------------------------------------------\u001b[0m",
      "\u001b[1;31mTypeError\u001b[0m                                 Traceback (most recent call last)",
      "\u001b[1;32m<ipython-input-3-d24137131a5c>\u001b[0m in \u001b[0;36m<module>\u001b[1;34m\u001b[0m\n\u001b[1;32m----> 1\u001b[1;33m \u001b[1;34m'I have eaten '\u001b[0m \u001b[1;33m+\u001b[0m \u001b[1;36m99\u001b[0m \u001b[1;33m+\u001b[0m \u001b[1;34m' burritos.'\u001b[0m\u001b[1;33m\u001b[0m\u001b[1;33m\u001b[0m\u001b[0m\n\u001b[0m",
      "\u001b[1;31mTypeError\u001b[0m: can only concatenate str (not \"int\") to str"
     ]
    }
   ],
   "source": [
    "'I have eaten ' + 99 + ' burritos.'"
   ]
  },
  {
   "cell_type": "code",
   "execution_count": 4,
   "id": "213299d5",
   "metadata": {},
   "outputs": [
    {
     "data": {
      "text/plain": [
       "'I have eaten 99 burritos.'"
      ]
     },
     "execution_count": 4,
     "metadata": {},
     "output_type": "execute_result"
    }
   ],
   "source": [
    "'I have eaten ' + '99' + ' burritos.'"
   ]
  },
  {
   "cell_type": "code",
   "execution_count": null,
   "id": "71ae8af9",
   "metadata": {},
   "outputs": [],
   "source": [
    "Because 99 is an integer it cannot be concatenated with strings."
   ]
  }
 ],
 "metadata": {
  "kernelspec": {
   "display_name": "Python 3",
   "language": "python",
   "name": "python3"
  },
  "language_info": {
   "codemirror_mode": {
    "name": "ipython",
    "version": 3
   },
   "file_extension": ".py",
   "mimetype": "text/x-python",
   "name": "python",
   "nbconvert_exporter": "python",
   "pygments_lexer": "ipython3",
   "version": "3.8.8"
  }
 },
 "nbformat": 4,
 "nbformat_minor": 5
}
